{
  "nbformat": 4,
  "nbformat_minor": 0,
  "metadata": {
    "colab": {
      "provenance": [],
      "gpuType": "T4",
      "mount_file_id": "1xN_kYcaJSROjGUswvPSsKZ6nIVWxPvsW",
      "authorship_tag": "ABX9TyPMFSMphppyBHjpV+zlHO8D",
      "include_colab_link": true
    },
    "kernelspec": {
      "name": "python3",
      "display_name": "Python 3"
    },
    "language_info": {
      "name": "python"
    },
    "accelerator": "GPU"
  },
  "cells": [
    {
      "cell_type": "markdown",
      "metadata": {
        "id": "view-in-github",
        "colab_type": "text"
      },
      "source": [
        "<a href=\"https://colab.research.google.com/github/raspberryscorn/2_6_2/blob/main/data_reader.ipynb\" target=\"_parent\"><img src=\"https://colab.research.google.com/assets/colab-badge.svg\" alt=\"Open In Colab\"/></a>"
      ]
    },
    {
      "cell_type": "markdown",
      "source": [
        "2_6_2 AI는 체격만 보고 체중을 추론할 수 있을까"
      ],
      "metadata": {
        "id": "Wj2meF6Pd3Il"
      }
    },
    {
      "cell_type": "code",
      "execution_count": 1,
      "metadata": {
        "colab": {
          "base_uri": "https://localhost:8080/"
        },
        "id": "rcMIniqzdOBz",
        "outputId": "0ae57b39-8df5-41fd-afef-e3e781b5cfb5"
      },
      "outputs": [
        {
          "output_type": "stream",
          "name": "stdout",
          "text": [
            "/content/drive/MyDrive/ddeep/bhban_ai/SECTION_2/Chapter_6/2_6_2\n"
          ]
        }
      ],
      "source": [
        "cd \"/content/drive/MyDrive/ddeep/bhban_ai/SECTION_2/Chapter_6/2_6_2\""
      ]
    },
    {
      "cell_type": "code",
      "source": [
        "\"\"\"\n",
        "Author : Byunghyun Ban\n",
        "Date : 2020.07.17.\n",
        "\"\"\"\n",
        "import os\n",
        "os.environ['TF_CPP_MIN_LOG_LEVEL'] = '3'\n",
        "import random\n",
        "\n",
        "import time\n",
        "try:\n",
        "    from matplotlib import pyplot as plt\n",
        "except ModuleNotFoundError:\n",
        "    import pip\n",
        "    pip.main(['install', 'matplotlib'])\n",
        "    try:\n",
        "        from matplotlib import pyplot as plt\n",
        "    except ModuleNotFoundError:\n",
        "        time.sleep(2)\n",
        "        from matplotlib import pyplot as plt\n",
        "\n",
        "try:\n",
        "    import numpy as np\n",
        "except ModuleNotFoundError:\n",
        "    import pip\n",
        "    pip.main(['install', 'numpy'])\n",
        "    try:\n",
        "        import numpy as np\n",
        "    except ModuleNotFoundError:\n",
        "        time.sleep(2)\n",
        "        import numpy as np\n",
        "\n",
        "\n",
        "# 데이터를 떠먹여 줄 클래스를 제작합니다.\n",
        "class DataReader():\n",
        "    def __init__(self):\n",
        "        self.train_X, self.train_Y, self.test_X, self.test_Y = self.read_data()\n",
        "\n",
        "        # 데이터 읽기가 완료되었습니다.\n",
        "        # 읽어온 데이터의 정보를 출력합니다.\n",
        "        print(\"\\n\\nData Read Done!\")\n",
        "        print(\"Training X Size : \" + str(self.train_X.shape))\n",
        "        print(\"Training Y Size : \" + str(self.train_Y.shape))\n",
        "        print(\"Test X Size : \" + str(self.test_X.shape))\n",
        "        print(\"Test Y Size : \" + str(self.test_Y.shape) + '\\n\\n')\n",
        "\n",
        "    def read_data(self):\n",
        "        file = open(\"data/\" + os.listdir('data')[0])\n",
        "        data = []\n",
        "        file.readline()\n",
        "        for line in file:\n",
        "            splt = line.split(\",\")\n",
        "            chest = process(splt[2])\n",
        "            arm = process(splt[3])\n",
        "            height = process(splt[4])\n",
        "            waist = process(splt[5])\n",
        "            sat = process(splt[6])\n",
        "            head = process(splt[7])\n",
        "            feet = process(splt[8])\n",
        "            weight = process(splt[9])\n",
        "\n",
        "            data.append((chest, arm, height, waist, sat, head, feet, weight))\n",
        "\n",
        "        random.shuffle(data)\n",
        "        data = np.asarray(data)\n",
        "\n",
        "        normalized_data = data / np.max(data, axis=0)\n",
        "\n",
        "        x, y = normalized_data.shape\n",
        "\n",
        "        train_X = normalized_data[:int(x * 0.8), :-1]\n",
        "        train_Y = normalized_data[:int(x * 0.8), -1]\n",
        "        test_X = normalized_data[int(x * 0.8):, :-1]\n",
        "        test_Y = normalized_data[int(x * 0.8):, -1]\n",
        "\n",
        "        file.close()\n",
        "\n",
        "        return train_X, train_Y, test_X, test_Y\n",
        "\n",
        "\n",
        "def process(txt):\n",
        "    if \"(\" in txt:\n",
        "        txt = txt.split(\"(\")[0]\n",
        "    txt = txt.strip()\n",
        "    return float(txt)\n",
        "\n",
        "\n",
        "def draw_graph(prediction, label, history):\n",
        "    X = prediction / np.max(prediction, axis=0)\n",
        "    Y = label / np.max(label, axis=0)\n",
        "\n",
        "    minval = min(np.min(X), np.min(Y))\n",
        "    maxval = max(np.max(X), np.max(Y))\n",
        "\n",
        "    fig = plt.figure(figsize=(8, 8))\n",
        "    plt.title(\"Regression Result\")\n",
        "    plt.xlabel(\"Ground Truth\")\n",
        "    plt.ylabel(\"AI Predict\")\n",
        "    plt.scatter(X, Y)\n",
        "    plt.plot([minval, maxval], [minval, maxval], \"red\")\n",
        "    fig.savefig(\"result.png\")\n",
        "\n",
        "    train_history = history.history[\"loss\"]\n",
        "    validation_history = history.history[\"val_loss\"]\n",
        "    fig = plt.figure(figsize=(8, 8))\n",
        "    plt.title(\"Loss History\")\n",
        "    plt.xlabel(\"EPOCH\")\n",
        "    plt.ylabel(\"LOSS Function\")\n",
        "    plt.plot(train_history, \"red\")\n",
        "    plt.plot(validation_history, 'blue')\n",
        "    fig.savefig(\"train_history.png\")\n"
      ],
      "metadata": {
        "id": "ss9ZvDDPeApk"
      },
      "execution_count": 2,
      "outputs": []
    }
  ]
}